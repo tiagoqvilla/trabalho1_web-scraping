{
  "nbformat": 4,
  "nbformat_minor": 0,
  "metadata": {
    "colab": {
      "provenance": []
    },
    "kernelspec": {
      "name": "python3",
      "display_name": "Python 3"
    },
    "language_info": {
      "name": "python"
    }
  },
  "cells": [
    {
      "cell_type": "code",
      "execution_count": 2,
      "metadata": {
        "id": "MGAxBR7-Vy25"
      },
      "outputs": [],
      "source": [
        "from urllib.request import urlopen, Request\n",
        "from bs4 import BeautifulSoup\n",
        "import re, json"
      ]
    },
    {
      "cell_type": "code",
      "source": [
        "#Carrega como objeto request para mudar o header.\n",
        "req = Request('https://www.imdb.com/chart/toptv/?ref_=nv_tvv_250', None, {'User-agent' : 'Mozilla/5.0 (Windows; U; Windows NT 5.1; de; rv:1.9.1.5) Gecko/20091102 Firefox/3.5.5'})\n",
        "html = urlopen(req)\n",
        "\n",
        "bs = BeautifulSoup(html.read(), 'html.parser')\n",
        "print(bs.h1)\n",
        "for link in bs.find_all('a'):\n",
        "    if 'href' in link.attrs:\n",
        "        print(link.attrs['href'])"
      ],
      "metadata": {
        "id": "-n_X7AUAWu5A"
      },
      "execution_count": null,
      "outputs": []
    },
    {
      "cell_type": "code",
      "source": [
        "print(bs)"
      ],
      "metadata": {
        "id": "4iZEzsRcpahB"
      },
      "execution_count": null,
      "outputs": []
    },
    {
      "cell_type": "code",
      "source": [
        "tudo = bs.find_all('a', href=True)\n",
        "links0 = [link['href'] for link in tudo if re.match(r'^/title/tt\\d+/\\?ref_=chttvtp_i_\\d+$', link['href'])]\n",
        "\n",
        "links = ['https://www.imdb.com/' + link for link in links0]\n",
        "print(links)\n"
      ],
      "metadata": {
        "id": "uKIEYHlRi4Q6"
      },
      "execution_count": null,
      "outputs": []
    },
    {
      "cell_type": "code",
      "source": [
        "titulos = []\n",
        "anos = []\n",
        "episodios = []\n",
        "notas = []\n",
        "\n",
        "tag = bs.find('script', {'id': '__NEXT_DATA__'})\n",
        "\n",
        "if tag:\n",
        "\n",
        "    data0 = tag.contents[0]\n",
        "\n",
        "    data = json.loads(data0)\n",
        "\n",
        "    for edge in data['props']['pageProps']['pageData']['chartTitles']['edges']:\n",
        "        titulo = edge['node']['titleText']['text']\n",
        "        ano = edge['node']['releaseYear']['year']\n",
        "        episodio = edge['node']['episodes']['episodes']['total']\n",
        "        nota = edge['node']['ratingsSummary']['aggregateRating']\n",
        "        titulos.append(titulo)\n",
        "        anos.append(ano)\n",
        "        episodios.append(episodio)\n",
        "        notas.append(nota)\n",
        "else:\n",
        "    print(\"Erro ao encontrar o script JSON\")\n"
      ],
      "metadata": {
        "id": "V1nLgWHoutnp"
      },
      "execution_count": null,
      "outputs": []
    },
    {
      "cell_type": "code",
      "source": [
        "dados = {\n",
        "    \"titulo\": titulos,\n",
        "    \"anos\": anos,\n",
        "    \"episodios\": episodios,\n",
        "    \"notas\": notas,\n",
        "    \"links\": links\n",
        "}\n",
        "json_dados = json.dumps(dados, indent=4)\n",
        "\n",
        "print(json_dados)"
      ],
      "metadata": {
        "id": "q3lzfPCn_mOo"
      },
      "execution_count": null,
      "outputs": []
    },
    {
      "cell_type": "code",
      "source": [
        "class Serie:\n",
        "    def __init__(self, popularidade, generos, elenco_principal):\n",
        "        self.popularidade = popularidade\n",
        "        self.generos = generos\n",
        "        self.elenco_principal = elenco_principal\n",
        "\n"
      ],
      "metadata": {
        "id": "C7XXMgzO0siA"
      },
      "execution_count": 7,
      "outputs": []
    },
    {
      "cell_type": "code",
      "source": [
        "series = []\n",
        "for link in links:\n",
        "  url = link\n",
        "  req = Request(url, None, {'User-agent' : 'Mozilla/5.0 (Windows; U; Windows NT 5.1; de; rv:1.9.1.5) Gecko/20091102 Firefox/3.5.5'})\n",
        "  html = urlopen(req)\n",
        "  bs = BeautifulSoup(html.read(), 'html.parser')\n",
        "\n",
        "  popularidade0 = bs.find('div', {'data-testid':'hero-rating-bar__popularity__score'})\n",
        "  popularidade = popularidade0.text.strip()\n",
        "\n",
        "  generos_div = bs.find('div', class_='ipc-chip-list__scroller')\n",
        "  generos_links = generos_div.find_all('a')\n",
        "  generos = [link.find('span', class_='ipc-chip__text').text.strip() for link in generos_links]\n",
        "\n",
        "  elenco_0 = bs.find_all('div', {'data-testid': 'title-cast-item'})\n",
        "  elenco = []\n",
        "  for i in elenco_0:\n",
        "    ator_link = i.find('a', {'data-testid': 'title-cast-item__actor'})\n",
        "    elenco.append(ator_link.text.strip())\n",
        "  series.append(Serie(popularidade, generos, elenco))\n",
        "  break#Demora muito\n",
        "json_dados = json.dumps([serie.__dict__ for serie in series], indent=4)\n",
        "print(json_dados)\n",
        ""
      ],
      "metadata": {
        "id": "YdXmcC8f-D_q"
      },
      "execution_count": null,
      "outputs": []
    }
  ]
}